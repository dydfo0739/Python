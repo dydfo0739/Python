{
 "cells": [
  {
   "cell_type": "code",
   "execution_count": 163,
   "metadata": {},
   "outputs": [],
   "source": [
    "# 학생 성적 관리 프로그램\n",
    "# 20명의 학생 성적을 입력 받은 다음\n",
    "# 등수에 따라(상대평가) A+ ~ F 학점으로 등급을 책정하는 기능\n",
    "# 상위 10%는 A+ ... 해서 F 까지"
   ]
  },
  {
   "cell_type": "code",
   "execution_count": 432,
   "metadata": {},
   "outputs": [],
   "source": [
    "x = []\n",
    "z = [1, 2, 3, 4, 5]\n",
    "x.append(int(input(z)))"
   ]
  },
  {
   "cell_type": "code",
   "execution_count": 433,
   "metadata": {},
   "outputs": [],
   "source": [
    "x = 10 % 3"
   ]
  },
  {
   "cell_type": "code",
   "execution_count": 434,
   "metadata": {},
   "outputs": [
    {
     "data": {
      "text/plain": [
       "1"
      ]
     },
     "execution_count": 434,
     "metadata": {},
     "output_type": "execute_result"
    }
   ],
   "source": [
    "\n",
    "x"
   ]
  },
  {
   "cell_type": "code",
   "execution_count": 429,
   "metadata": {},
   "outputs": [
    {
     "data": {
      "text/plain": [
       "[1]"
      ]
     },
     "execution_count": 429,
     "metadata": {},
     "output_type": "execute_result"
    }
   ],
   "source": [
    "x"
   ]
  },
  {
   "cell_type": "code",
   "execution_count": 425,
   "metadata": {},
   "outputs": [
    {
     "name": "stdout",
     "output_type": "stream",
     "text": [
      "10\n",
      "7\n",
      "4\n"
     ]
    }
   ],
   "source": [
    "for i in range(10, 1, -3) :\n",
    "    print(i)"
   ]
  },
  {
   "cell_type": "code",
   "execution_count": 421,
   "metadata": {},
   "outputs": [
    {
     "name": "stdout",
     "output_type": "stream",
     "text": [
      "0\n",
      "3\n",
      "6\n",
      "9\n"
     ]
    }
   ],
   "source": [
    "for i in range(0, 10, 3) :\n",
    "    print(i)"
   ]
  },
  {
   "cell_type": "code",
   "execution_count": null,
   "metadata": {},
   "outputs": [],
   "source": [
    "for i in range(0, 10, 3) :\n",
    "    x.append(int(input()))"
   ]
  },
  {
   "cell_type": "code",
   "execution_count": 417,
   "metadata": {},
   "outputs": [],
   "source": [
    "z = x.copy()"
   ]
  },
  {
   "cell_type": "code",
   "execution_count": 418,
   "metadata": {},
   "outputs": [
    {
     "name": "stdout",
     "output_type": "stream",
     "text": [
      "[65, 74, 23, 46, 35, 78, 934, 13, 24, 53]\n"
     ]
    }
   ],
   "source": [
    "print(x)"
   ]
  },
  {
   "cell_type": "code",
   "execution_count": 420,
   "metadata": {},
   "outputs": [
    {
     "name": "stdout",
     "output_type": "stream",
     "text": [
      "0\n",
      "0\n",
      "1\n"
     ]
    }
   ],
   "source": [
    "for i in range(3) :\n",
    "    for j in range(i) :\n",
    "        print(j)"
   ]
  },
  {
   "cell_type": "code",
   "execution_count": 419,
   "metadata": {},
   "outputs": [
    {
     "name": "stdout",
     "output_type": "stream",
     "text": [
      "\n",
      "[ 65 ]\n",
      "[ 65 ][ 74 ]\n",
      "[ 65 ][ 74 ][ 23 ]\n",
      "[ 65 ][ 74 ][ 23 ][ 46 ]\n",
      "[ 65 ][ 74 ][ 23 ][ 46 ][ 35 ]\n",
      "[ 65 ][ 74 ][ 23 ][ 46 ][ 35 ][ 78 ]\n",
      "[ 65 ][ 74 ][ 23 ][ 46 ][ 35 ][ 78 ][ 934 ]\n",
      "[ 65 ][ 74 ][ 23 ][ 46 ][ 35 ][ 78 ][ 934 ][ 13 ]\n",
      "[ 65 ][ 74 ][ 23 ][ 46 ][ 35 ][ 78 ][ 934 ][ 13 ][ 24 ]\n"
     ]
    }
   ],
   "source": [
    "for i in range(len(z)) :\n",
    "    for j in range(i) :\n",
    "        print('[', z[j], ']', end='')\n",
    "    print()"
   ]
  },
  {
   "cell_type": "code",
   "execution_count": 412,
   "metadata": {},
   "outputs": [
    {
     "name": "stdout",
     "output_type": "stream",
     "text": [
      "[65, 74, 23, 46, 35, 78, 934, 13, 24, 53]\n",
      "[74, 65, 23, 46, 35, 78, 934, 13, 24, 53]\n",
      "[74, 65, 46, 23, 35, 78, 934, 13, 24, 53]\n",
      "[74, 65, 46, 35, 23, 78, 934, 13, 24, 53]\n",
      "[78, 65, 46, 35, 23, 74, 934, 13, 24, 53]\n",
      "[78, 74, 46, 35, 23, 65, 934, 13, 24, 53]\n",
      "[78, 74, 65, 35, 23, 46, 934, 13, 24, 53]\n",
      "[78, 74, 65, 46, 23, 35, 934, 13, 24, 53]\n",
      "[78, 74, 65, 46, 35, 23, 934, 13, 24, 53]\n",
      "[934, 74, 65, 46, 35, 23, 78, 13, 24, 53]\n",
      "[934, 78, 65, 46, 35, 23, 74, 13, 24, 53]\n",
      "[934, 78, 74, 46, 35, 23, 65, 13, 24, 53]\n",
      "[934, 78, 74, 65, 35, 23, 46, 13, 24, 53]\n",
      "[934, 78, 74, 65, 46, 23, 35, 13, 24, 53]\n",
      "[934, 78, 74, 65, 46, 35, 23, 13, 24, 53]\n",
      "[934, 78, 74, 65, 46, 35, 24, 13, 23, 53]\n",
      "[934, 78, 74, 65, 46, 35, 24, 23, 13, 53]\n",
      "[934, 78, 74, 65, 53, 35, 24, 23, 13, 46]\n",
      "[934, 78, 74, 65, 53, 46, 24, 23, 13, 35]\n",
      "[934, 78, 74, 65, 53, 46, 35, 23, 13, 24]\n",
      "[934, 78, 74, 65, 53, 46, 35, 24, 13, 23]\n"
     ]
    }
   ],
   "source": [
    "for i in range(len(z)) :\n",
    "    for j in range(i) :\n",
    "        if z[i] > z[j] :\n",
    "            print(z)\n",
    "            tmp = z[i]\n",
    "            z[i] = z[j]\n",
    "            z[j] = tmp"
   ]
  },
  {
   "cell_type": "code",
   "execution_count": 387,
   "metadata": {},
   "outputs": [
    {
     "data": {
      "text/plain": [
       "[97, 87, 68, 67, 64, 57, 56, 45, 45, 34]"
      ]
     },
     "execution_count": 387,
     "metadata": {},
     "output_type": "execute_result"
    }
   ],
   "source": [
    "z"
   ]
  }
 ],
 "metadata": {
  "kernelspec": {
   "display_name": "base",
   "language": "python",
   "name": "python3"
  },
  "language_info": {
   "codemirror_mode": {
    "name": "ipython",
    "version": 3
   },
   "file_extension": ".py",
   "mimetype": "text/x-python",
   "name": "python",
   "nbconvert_exporter": "python",
   "pygments_lexer": "ipython3",
   "version": "3.12.7"
  }
 },
 "nbformat": 4,
 "nbformat_minor": 2
}
