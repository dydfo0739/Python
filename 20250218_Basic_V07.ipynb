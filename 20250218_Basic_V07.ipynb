{
 "cells": [
  {
   "cell_type": "markdown",
   "metadata": {},
   "source": [
    "나 추천 해라\n",
    "ChatGPT의 말:\n",
    "숫자 맞히기 게임 (Up & Down 게임)\n",
    "설명:\n",
    "\n",
    "프로그램이 1부터 100 사이의 랜덤한 숫자를 생성함.\n",
    "사용자가 숫자를 입력하면 프로그램이 \"Up\" (더 큰 숫자를 입력하세요) 또는 \"Down\" (더 작은 숫자를 입력하세요)를 출력함.\n",
    "사용자가 정답을 맞히면 \"정답입니다!\" 출력 후 종료.\n",
    "사용하는 개념:\n",
    "\n",
    "for문을 활용해 최대 시도 횟수 제한 가능\n",
    "if문을 사용해 숫자 비교\n",
    "힌트 코드:"
   ]
  },
  {
   "cell_type": "code",
   "execution_count": 2,
   "metadata": {},
   "outputs": [],
   "source": [
    "import random\n",
    "\n",
    "# 1~100 사이의 랜덤 숫자 생성\n",
    "secret_number = random.randint(1, 100)\n"
   ]
  },
  {
   "cell_type": "code",
   "execution_count": 3,
   "metadata": {},
   "outputs": [
    {
     "name": "stdout",
     "output_type": "stream",
     "text": [
      "21\n"
     ]
    }
   ],
   "source": [
    "print(secret_number)"
   ]
  },
  {
   "cell_type": "code",
   "execution_count": 14,
   "metadata": {},
   "outputs": [
    {
     "name": "stdout",
     "output_type": "stream",
     "text": [
      "up 11\n",
      "up 12\n",
      "Down 23\n",
      "Down 22\n",
      "정답! 21\n"
     ]
    }
   ],
   "source": [
    "for i in range(1,11) :\n",
    "    attemp = int(input())\n",
    "    if attemp < secret_number :\n",
    "        print (\"up\", attemp)\n",
    "    elif attemp > secret_number :\n",
    "        print (\"Down\", attemp)\n",
    "    elif attemp == secret_number :\n",
    "        print (\"정답!\", attemp)\n",
    "        break"
   ]
  },
  {
   "cell_type": "code",
   "execution_count": 15,
   "metadata": {},
   "outputs": [],
   "source": [
    "# 10개 변수 입력\n",
    "# 변수 번호를 3개 입력받아서, 위에 입력 받은 변수를 더해\n",
    "\n",
    "#a1, a2, a3, ... , a8, a9, a10\n",
    "# a1 = 1, a2 = 2, ... , a10 = 10\n",
    "# 3, 5, 9\n",
    "# result = a3 + a5 + a9\n",
    "# print (result)"
   ]
  },
  {
   "cell_type": "code",
   "execution_count": 62,
   "metadata": {},
   "outputs": [
    {
     "name": "stdout",
     "output_type": "stream",
     "text": [
      "100 29 8 65 21 35 73 30 90 49\n"
     ]
    }
   ],
   "source": [
    "a1 = random.randint(1, 100)\n",
    "a2 = random.randint(1, 100)\n",
    "a3 = random.randint(1, 100)\n",
    "a4 = random.randint(1, 100)\n",
    "a5 = random.randint(1, 100)\n",
    "a6 = random.randint(1, 100)\n",
    "a7 = random.randint(1, 100)\n",
    "a8 = random.randint(1, 100)\n",
    "a9 = random.randint(1, 100)\n",
    "a10 = random.randint(1, 100)\n",
    "print(a1, a2, a3, a4, a5, a6, a7, a8, a9, a10)\n"
   ]
  },
  {
   "cell_type": "code",
   "execution_count": 85,
   "metadata": {},
   "outputs": [],
   "source": [
    "a = []"
   ]
  },
  {
   "cell_type": "code",
   "execution_count": 86,
   "metadata": {},
   "outputs": [],
   "source": [
    "for i in range(0, 10) :\n",
    "    a.append(random.randint(1, 100))"
   ]
  },
  {
   "cell_type": "code",
   "execution_count": 87,
   "metadata": {},
   "outputs": [],
   "source": [
    "result = a[2] + a[4] + a[9]"
   ]
  },
  {
   "cell_type": "code",
   "execution_count": 89,
   "metadata": {},
   "outputs": [
    {
     "data": {
      "text/plain": [
       "77"
      ]
     },
     "execution_count": 89,
     "metadata": {},
     "output_type": "execute_result"
    }
   ],
   "source": [
    "result"
   ]
  },
  {
   "cell_type": "code",
   "execution_count": null,
   "metadata": {},
   "outputs": [],
   "source": [
    "# Up & Down 게임인데 attempt로 입력한 값들 마지막에 다 보여줄 수 있어야 하며,\n",
    "# 기회도 입력 받을 횟수 만큼 제공해준다.\n",
    "\n",
    "# 첫 번째 입력한 10기회 -> 30이라 입력하면 30회 기회 제공\n",
    "# 너가 입력한 값들을 마지막에 전부 한번에 출력"
   ]
  },
  {
   "cell_type": "code",
   "execution_count": null,
   "metadata": {},
   "outputs": [
    {
     "name": "stdout",
     "output_type": "stream",
     "text": [
      "22\n",
      "5\n",
      "UP\n",
      "22\n",
      "정답\n",
      "[5, 22]\n"
     ]
    }
   ],
   "source": [
    "secret_number = random.randint(1, 100)\n",
    "print(secret_number)\n",
    "x = int(input())\n",
    "print(x)\n",
    "\n",
    "g = [x]\n",
    "\n",
    "flag = 0\n",
    "\n",
    "if x < secret_number :\n",
    "    print(\"UP\")\n",
    "elif x > secret_number :\n",
    "    print(\"Down\")\n",
    "elif x == secret_number :\n",
    "    print(\"정답\")\n",
    "    flag = 1\n",
    "\n",
    "if flag == 0 :\n",
    "    for i in range(0, x-1) :\n",
    "        attemp = int(input())\n",
    "        g.append(attemp)\n",
    "        print(attemp)\n",
    "        if attemp < secret_number :\n",
    "            print(\"UP\")\n",
    "        elif attemp > secret_number :\n",
    "            print(\"Down\")\n",
    "        elif attemp == secret_number :\n",
    "            print(\"정답\")\n",
    "            break\n",
    "        \n",
    "print(g)"
   ]
  },
  {
   "cell_type": "code",
   "execution_count": null,
   "metadata": {},
   "outputs": [],
   "source": []
  }
 ],
 "metadata": {
  "kernelspec": {
   "display_name": "base",
   "language": "python",
   "name": "python3"
  },
  "language_info": {
   "codemirror_mode": {
    "name": "ipython",
    "version": 3
   },
   "file_extension": ".py",
   "mimetype": "text/x-python",
   "name": "python",
   "nbconvert_exporter": "python",
   "pygments_lexer": "ipython3",
   "version": "3.12.7"
  }
 },
 "nbformat": 4,
 "nbformat_minor": 2
}
