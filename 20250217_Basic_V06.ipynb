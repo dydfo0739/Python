{
 "cells": [
  {
   "cell_type": "code",
   "execution_count": 12,
   "metadata": {},
   "outputs": [
    {
     "name": "stdout",
     "output_type": "stream",
     "text": [
      "\n",
      "^ \n",
      "0 1 \n",
      "* * * \n",
      "0 1 2 3 \n",
      "0 1 2 3 4 \n",
      "* * * * * * \n",
      "0 1 2 3 4 5 6 \n",
      "0 1 2 3 4 5 6 7 \n",
      "* * * * * * * * * \n"
     ]
    }
   ],
   "source": [
    "for i in range(0, 10) :\n",
    "    for j in range(0, i) :\n",
    "        if (i == 3) | (i==6):\n",
    "            print('*', end=' ')\n",
    "        elif i==9 :\n",
    "            print('*', end=' ')\n",
    "        elif i==1 :\n",
    "            print('^', end=' ')\n",
    "        else :\n",
    "            print(j, end=' ')\n",
    "    print()"
   ]
  },
  {
   "cell_type": "markdown",
   "metadata": {},
   "source": [
    "나 추천 해라\n",
    "ChatGPT의 말:\n",
    "숫자 맞히기 게임 (Up & Down 게임)\n",
    "설명:\n",
    "\n",
    "프로그램이 1부터 100 사이의 랜덤한 숫자를 생성함.\n",
    "사용자가 숫자를 입력하면 프로그램이 \"Up\" (더 큰 숫자를 입력하세요) 또는 \"Down\" (더 작은 숫자를 입력하세요)를 출력함.\n",
    "사용자가 정답을 맞히면 \"정답입니다!\" 출력 후 종료.\n",
    "사용하는 개념:\n",
    "\n",
    "for문을 활용해 최대 시도 횟수 제한 가능\n",
    "if문을 사용해 숫자 비교\n",
    "힌트 코드:"
   ]
  },
  {
   "cell_type": "code",
   "execution_count": 19,
   "metadata": {},
   "outputs": [],
   "source": [
    "import random\n",
    "\n",
    "# 1~100 사이의 랜덤 숫자 생성\n",
    "secret_number = random.randint(1, 100)\n"
   ]
  },
  {
   "cell_type": "code",
   "execution_count": 20,
   "metadata": {},
   "outputs": [
    {
     "data": {
      "text/plain": [
       "92"
      ]
     },
     "execution_count": 20,
     "metadata": {},
     "output_type": "execute_result"
    }
   ],
   "source": [
    "secret_number"
   ]
  },
  {
   "cell_type": "code",
   "execution_count": 27,
   "metadata": {},
   "outputs": [
    {
     "name": "stdout",
     "output_type": "stream",
     "text": [
      "Up 50\n",
      "Up 70\n",
      "Up 90\n",
      "Down 95\n",
      "Down 93\n",
      "정답입니다~! 92\n"
     ]
    }
   ],
   "source": [
    "for x in range(1, 11) :\n",
    "    y = int(input())\n",
    "    if y > secret_number :\n",
    "        print(\"Down\", y)\n",
    "    elif y < secret_number :\n",
    "        print(\"Up\", y)\n",
    "    else :\n",
    "        print('정답입니다~!', y)\n",
    "        break"
   ]
  },
  {
   "cell_type": "code",
   "execution_count": null,
   "metadata": {},
   "outputs": [],
   "source": []
  }
 ],
 "metadata": {
  "kernelspec": {
   "display_name": "base",
   "language": "python",
   "name": "python3"
  },
  "language_info": {
   "codemirror_mode": {
    "name": "ipython",
    "version": 3
   },
   "file_extension": ".py",
   "mimetype": "text/x-python",
   "name": "python",
   "nbconvert_exporter": "python",
   "pygments_lexer": "ipython3",
   "version": "3.12.7"
  }
 },
 "nbformat": 4,
 "nbformat_minor": 2
}
