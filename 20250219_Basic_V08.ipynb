{
 "cells": [
  {
   "cell_type": "markdown",
   "metadata": {},
   "source": [
    "Up & Down 게임 규칙 정리 🔹\n",
    "1️⃣ 기회 설정\n",
    "\n",
    "첫 번째 입력으로 플레이할 **기회(횟수)**를 입력한다.\n",
    "예를 들어 30을 입력하면 30번의 기회를 제공한다.\n",
    "2️⃣ 숫자 맞히기\n",
    "\n",
    "랜덤한 정답 숫자를 맞히는 게임이다.\n",
    "사용자는 주어진 기회 동안 숫자를 입력하며 정답을 맞힌다.\n",
    "입력한 숫자보다 정답이 크면 \"Up!\", 작으면 \"Down!\"을 출력한다.\n",
    "3️⃣ 입력한 값들 기록\n",
    "\n",
    "사용자가 입력한 모든 값을 저장한다.\n",
    "게임이 끝난 후, 사용자가 입력했던 모든 숫자를 출력한다.\n",
    "4️⃣ 게임 종료 조건\n",
    "\n",
    "정답을 맞히면 즉시 종료된다.\n",
    "기회를 모두 사용하면 게임 오버."
   ]
  },
  {
   "cell_type": "code",
   "execution_count": 1,
   "metadata": {},
   "outputs": [],
   "source": [
    "import random"
   ]
  },
  {
   "cell_type": "code",
   "execution_count": 116,
   "metadata": {},
   "outputs": [
    {
     "name": "stdout",
     "output_type": "stream",
     "text": [
      "34\n"
     ]
    }
   ],
   "source": [
    "y = random.randint(1, 50)\n",
    "print(y)\n"
   ]
  },
  {
   "cell_type": "code",
   "execution_count": 118,
   "metadata": {},
   "outputs": [
    {
     "name": "stdout",
     "output_type": "stream",
     "text": [
      "22 up\n",
      "12 up\n",
      "32 up\n",
      "33 up\n",
      "34 정답!\n",
      "[22, 12, 32, 33, 34]\n"
     ]
    }
   ],
   "source": [
    "x = []\n",
    "z = int(input())\n",
    "x.append(z)\n",
    "\n",
    "if z < y :\n",
    "    print(z, \"up\")\n",
    "    for i in range(1, z) :\n",
    "        attemp = int(input())\n",
    "        x.append(attemp)\n",
    "\n",
    "        if attemp < y :\n",
    "            print(attemp, \"up\")\n",
    "        elif attemp > y : \n",
    "            print(attemp, \"down\")\n",
    "        elif attemp == y :\n",
    "            print(attemp, \"정답!\")\n",
    "            break\n",
    "\n",
    "elif z > y :\n",
    "    print(z, \"down\")\n",
    "    for i in range(1, z) :\n",
    "        attemp = int(input())\n",
    "        x.append(attemp)\n",
    "\n",
    "        if attemp < y :\n",
    "            print(attemp, \"up\")\n",
    "        elif attemp > y : \n",
    "            print(attemp, \"down\")\n",
    "        elif attemp == y :\n",
    "            print(attemp, \"정답!\")\n",
    "            break\n",
    "\n",
    "elif z == y :\n",
    "    print(z, \"정답!\")\n",
    "\n",
    "print(x)\n",
    "    "
   ]
  },
  {
   "cell_type": "markdown",
   "metadata": {},
   "source": [
    "numbers 배열 값 중 최댓값을 Result에 저장 후 출력하시오."
   ]
  },
  {
   "cell_type": "code",
   "execution_count": 196,
   "metadata": {},
   "outputs": [],
   "source": [
    "numbers = [23, 57, 12, 89, 34, 99, 45, 67]"
   ]
  },
  {
   "cell_type": "code",
   "execution_count": 197,
   "metadata": {},
   "outputs": [
    {
     "name": "stdout",
     "output_type": "stream",
     "text": [
      "99\n"
     ]
    }
   ],
   "source": [
    "x = []\n",
    "result = []\n",
    "\n",
    "for b in range(1, 10000) :\n",
    "    for a in range(1, len(numbers)) :\n",
    "        if numbers[a-1] > numbers[a] :\n",
    "            x = numbers[a]\n",
    "            numbers[a] = numbers[a-1]\n",
    "            numbers[a-1] = x\n",
    "            result = numbers[len(numbers)-1]\n",
    "print(result)"
   ]
  },
  {
   "cell_type": "code",
   "execution_count": 198,
   "metadata": {},
   "outputs": [],
   "source": [
    "numbers = [23, 57, 12, 89, 34, 99, 45, 67]"
   ]
  },
  {
   "cell_type": "code",
   "execution_count": null,
   "metadata": {},
   "outputs": [
    {
     "name": "stdout",
     "output_type": "stream",
     "text": [
      "23\n",
      "57\n",
      "12\n",
      "89\n",
      "34\n",
      "99\n",
      "45\n",
      "67\n"
     ]
    }
   ],
   "source": [
    "max = numbers[0]\n",
    "for i in range(0, len(numbers)) :\n",
    "    print(numbers[i])\n",
    "    if numbers[i] < max :\n",
    "        max = numbers[i]"
   ]
  },
  {
   "cell_type": "code",
   "execution_count": 208,
   "metadata": {},
   "outputs": [
    {
     "data": {
      "text/plain": [
       "12"
      ]
     },
     "execution_count": 208,
     "metadata": {},
     "output_type": "execute_result"
    }
   ],
   "source": [
    "max"
   ]
  },
  {
   "cell_type": "code",
   "execution_count": 239,
   "metadata": {},
   "outputs": [],
   "source": [
    "numbers = [23, 57, 12, 89, 34, 99, 45, 67]"
   ]
  },
  {
   "cell_type": "code",
   "execution_count": null,
   "metadata": {},
   "outputs": [],
   "source": []
  },
  {
   "cell_type": "code",
   "execution_count": 240,
   "metadata": {},
   "outputs": [
    {
     "name": "stdout",
     "output_type": "stream",
     "text": [
      "[ 0 ] [ 1 ] 0 57  >  23  :  67  swap  23  swap  57\n",
      "[ 2 ] 0 1 [ 3 ] 0 89  >  57  :  57  swap  57  swap  89\n",
      "1 89  >  57  :  89  swap  57  swap  89\n",
      "2 89  >  12  :  89  swap  12  swap  89\n",
      "[ 4 ] 0 1 2 3 [ 5 ] 0 99  >  89  :  89  swap  89  swap  99\n",
      "1 99  >  89  :  99  swap  89  swap  99\n",
      "2 99  >  89  :  99  swap  89  swap  99\n",
      "3 99  >  89  :  99  swap  89  swap  99\n",
      "4 99  >  34  :  99  swap  34  swap  99\n",
      "[ 6 ] 0 1 2 3 4 5 [ 7 ] 0 1 2 3 4 5 6 67  >  45  :  99  swap  45  swap  67\n"
     ]
    }
   ],
   "source": [
    "\n",
    "for i in range(0, len(numbers)) :\n",
    "    print('[',i,']', end=' ')\n",
    "    for j in range(0, i) :\n",
    "        print(j, end=' ')\n",
    "        if numbers[i] > numbers[j] :\n",
    "            print(numbers[i], ' > ' , numbers[j] , ' : ', tmp, ' swap ' ,numbers[j], ' swap ', numbers[i]) \n",
    "            tmp = numbers[i]\n",
    "            numbers[j] = tmp"
   ]
  },
  {
   "cell_type": "code",
   "execution_count": 224,
   "metadata": {},
   "outputs": [],
   "source": [
    "apple = 5"
   ]
  },
  {
   "cell_type": "code",
   "execution_count": 225,
   "metadata": {},
   "outputs": [],
   "source": [
    "x = apple"
   ]
  }
 ],
 "metadata": {
  "kernelspec": {
   "display_name": "base",
   "language": "python",
   "name": "python3"
  },
  "language_info": {
   "codemirror_mode": {
    "name": "ipython",
    "version": 3
   },
   "file_extension": ".py",
   "mimetype": "text/x-python",
   "name": "python",
   "nbconvert_exporter": "python",
   "pygments_lexer": "ipython3",
   "version": "3.12.7"
  }
 },
 "nbformat": 4,
 "nbformat_minor": 2
}
